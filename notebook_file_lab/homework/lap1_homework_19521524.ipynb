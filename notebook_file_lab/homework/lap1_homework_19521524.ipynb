{
 "cells": [
  {
   "cell_type": "code",
   "execution_count": 4,
   "id": "faad8cb6",
   "metadata": {},
   "outputs": [],
   "source": [
    "#IV"
   ]
  },
  {
   "cell_type": "code",
   "execution_count": null,
   "id": "63acfb5a",
   "metadata": {},
   "outputs": [],
   "source": [
    "#what is 7 to the power of 4?"
   ]
  },
  {
   "cell_type": "code",
   "execution_count": 5,
   "id": "eebd481f",
   "metadata": {},
   "outputs": [
    {
     "name": "stdout",
     "output_type": "stream",
     "text": [
      "2401\n"
     ]
    }
   ],
   "source": [
    "print(pow(7,4))"
   ]
  },
  {
   "cell_type": "code",
   "execution_count": 6,
   "id": "708dd067",
   "metadata": {},
   "outputs": [],
   "source": [
    "#split this string\n",
    "S=\"Hi there Sam!\""
   ]
  },
  {
   "cell_type": "code",
   "execution_count": 7,
   "id": "7e8284b4",
   "metadata": {},
   "outputs": [
    {
     "data": {
      "text/plain": [
       "['Hi', 'there', 'Sam!']"
      ]
     },
     "execution_count": 7,
     "metadata": {},
     "output_type": "execute_result"
    }
   ],
   "source": [
    "S.split()"
   ]
  },
  {
   "cell_type": "code",
   "execution_count": 8,
   "id": "eba8acc8",
   "metadata": {},
   "outputs": [],
   "source": [
    "#given variable \n",
    "# planet = \"Earth\"\n",
    "# diameter = 12742\n",
    "# use format to print the following string\n",
    "# The diameter of Earth is 12742 kilometers"
   ]
  },
  {
   "cell_type": "code",
   "execution_count": 9,
   "id": "1b0bcde3",
   "metadata": {},
   "outputs": [],
   "source": [
    "planet = \"Earth\"\n",
    "diameter = 12742"
   ]
  },
  {
   "cell_type": "code",
   "execution_count": 10,
   "id": "6ae9d1b5",
   "metadata": {},
   "outputs": [
    {
     "name": "stdout",
     "output_type": "stream",
     "text": [
      "The diameter of Earth is 12742 kilometers\n"
     ]
    }
   ],
   "source": [
    "print('The diameter of {planet} is {diameter} kilometers'.format(planet=\"Earth\", diameter=12742))"
   ]
  },
  {
   "cell_type": "code",
   "execution_count": 11,
   "id": "4665dd23",
   "metadata": {},
   "outputs": [],
   "source": [
    "#given this nested list, use indexing to grab the word \"hello\""
   ]
  },
  {
   "cell_type": "code",
   "execution_count": 12,
   "id": "45765332",
   "metadata": {},
   "outputs": [],
   "source": [
    "lst = [1,2,[3,4],[5,[100,200,['hello']],23,11],1,7]"
   ]
  },
  {
   "cell_type": "code",
   "execution_count": 19,
   "id": "49f40642",
   "metadata": {},
   "outputs": [
    {
     "data": {
      "text/plain": [
       "[5, [100, 200, ['hello']], 23, 11]"
      ]
     },
     "execution_count": 19,
     "metadata": {},
     "output_type": "execute_result"
    }
   ],
   "source": [
    "lst[3]\n"
   ]
  },
  {
   "cell_type": "code",
   "execution_count": 20,
   "id": "7d32136b",
   "metadata": {},
   "outputs": [
    {
     "data": {
      "text/plain": [
       "[100, 200, ['hello']]"
      ]
     },
     "execution_count": 20,
     "metadata": {},
     "output_type": "execute_result"
    }
   ],
   "source": [
    "lst[3][1]\n"
   ]
  },
  {
   "cell_type": "code",
   "execution_count": 22,
   "id": "589f2ee0",
   "metadata": {},
   "outputs": [
    {
     "data": {
      "text/plain": [
       "'hello'"
      ]
     },
     "execution_count": 22,
     "metadata": {},
     "output_type": "execute_result"
    }
   ],
   "source": [
    "lst[3][1][2][0]"
   ]
  },
  {
   "cell_type": "code",
   "execution_count": 23,
   "id": "331c21e4",
   "metadata": {},
   "outputs": [],
   "source": [
    "#given this neste dictionary grab the word \"hello\". be prepare, this will be annoying/tricky"
   ]
  },
  {
   "cell_type": "code",
   "execution_count": 24,
   "id": "6b189efc",
   "metadata": {},
   "outputs": [],
   "source": [
    "d={'k1':[1,2,3,{'tricky':['oh','man','inception',{'target':[1,2,3,'hello']}]}]}"
   ]
  },
  {
   "cell_type": "code",
   "execution_count": 30,
   "id": "cb44f211",
   "metadata": {},
   "outputs": [
    {
     "data": {
      "text/plain": [
       "'hello'"
      ]
     },
     "execution_count": 30,
     "metadata": {},
     "output_type": "execute_result"
    }
   ],
   "source": [
    "d['k1'][3]['tricky'][3]['target'][3]"
   ]
  },
  {
   "cell_type": "code",
   "execution_count": null,
   "id": "fcd18990",
   "metadata": {},
   "outputs": [],
   "source": [
    "#tuple\n",
    "#create a function that grabs the email website domain from a string in the form:\n",
    "# user@domain.com\n",
    "# return : domain.com"
   ]
  },
  {
   "cell_type": "code",
   "execution_count": 33,
   "id": "0688accf",
   "metadata": {},
   "outputs": [
    {
     "data": {
      "text/plain": [
       "'domain.com'"
      ]
     },
     "execution_count": 33,
     "metadata": {},
     "output_type": "execute_result"
    }
   ],
   "source": [
    "def domainGet(email):\n",
    "    return email.split('@')[-1]\n",
    "domainGet('user@domain.com')"
   ]
  },
  {
   "cell_type": "code",
   "execution_count": 34,
   "id": "ec2a7168",
   "metadata": {},
   "outputs": [],
   "source": [
    "#return true "
   ]
  },
  {
   "cell_type": "code",
   "execution_count": 37,
   "id": "b59ea58e",
   "metadata": {},
   "outputs": [],
   "source": [
    "def findDog(st):\n",
    "    return 'dog' in st.lower().split()"
   ]
  },
  {
   "cell_type": "code",
   "execution_count": 39,
   "id": "fb89cb75",
   "metadata": {},
   "outputs": [
    {
     "data": {
      "text/plain": [
       "True"
      ]
     },
     "execution_count": 39,
     "metadata": {},
     "output_type": "execute_result"
    }
   ],
   "source": [
    "findDog('Is there a dog here?')"
   ]
  },
  {
   "cell_type": "code",
   "execution_count": 40,
   "id": "7e6f4ec0",
   "metadata": {},
   "outputs": [],
   "source": [
    "# count dog"
   ]
  },
  {
   "cell_type": "code",
   "execution_count": 51,
   "id": "1823fa20",
   "metadata": {},
   "outputs": [],
   "source": [
    "def CountDog(st):\n",
    "    count = 0\n",
    "    for word in st.lower().split():\n",
    "        if word =='dog':\n",
    "            count += 1\n",
    "    return count\n",
    "    "
   ]
  },
  {
   "cell_type": "code",
   "execution_count": 52,
   "id": "a9f9deb7",
   "metadata": {},
   "outputs": [
    {
     "data": {
      "text/plain": [
       "2"
      ]
     },
     "execution_count": 52,
     "metadata": {},
     "output_type": "execute_result"
    }
   ],
   "source": [
    "CountDog('This dog runs faster than the other dog dude!')"
   ]
  },
  {
   "cell_type": "code",
   "execution_count": null,
   "id": "10603296",
   "metadata": {},
   "outputs": [],
   "source": [
    "#Use lambda expressions and the filter() function to filter out words from a list that don't start with the letter 's'. For example:"
   ]
  },
  {
   "cell_type": "code",
   "execution_count": 53,
   "id": "447269ca",
   "metadata": {},
   "outputs": [],
   "source": [
    "seq = ['soup','dog','salad','cat','great']\n"
   ]
  },
  {
   "cell_type": "code",
   "execution_count": 58,
   "id": "136c9f0f",
   "metadata": {},
   "outputs": [
    {
     "data": {
      "text/plain": [
       "['soup', 'salad']"
      ]
     },
     "execution_count": 58,
     "metadata": {},
     "output_type": "execute_result"
    }
   ],
   "source": [
    "list(filter(lambda word: word[0]=='s',seq))\n",
    "    "
   ]
  },
  {
   "cell_type": "code",
   "execution_count": 60,
   "id": "93190930",
   "metadata": {},
   "outputs": [],
   "source": [
    "#Final Problem\n",
    "#You are driving a little too fast, and a police officer stops you. Write a function to return one of 3 possible results: \"No ticket\", \"Small ticket\", or \"Big Ticket\". If your speed is 60 or less, the result is \"No Ticket\". If speed is between 61 and 80 inclusive, the result is \"Small Ticket\". If speed is 81 or more, the result is \"Big Ticket\". Unless it is your birthday (encoded as a boolean value in the parameters of the function) -- on your birthday, your speed can be 5 higher in all cases."
   ]
  },
  {
   "cell_type": "code",
   "execution_count": 61,
   "id": "69aa939a",
   "metadata": {},
   "outputs": [],
   "source": [
    "def CaughtSpeeding(speed, is_birthday):\n",
    "    if is_birthday:\n",
    "        speeding=speed-5\n",
    "    else:\n",
    "        speeding=speed\n",
    "    if speeding > 80:\n",
    "        return 'Big ticket'\n",
    "    elif speeding > 60:\n",
    "        return 'Small ticket'\n",
    "    else:\n",
    "        return 'No ticket'\n",
    "\n",
    "    "
   ]
  },
  {
   "cell_type": "code",
   "execution_count": 67,
   "id": "d9a1dd2b",
   "metadata": {},
   "outputs": [
    {
     "data": {
      "text/plain": [
       "'Small ticket'"
      ]
     },
     "execution_count": 67,
     "metadata": {},
     "output_type": "execute_result"
    }
   ],
   "source": [
    "CaughtSpeeding(81,True)"
   ]
  },
  {
   "cell_type": "code",
   "execution_count": 65,
   "id": "90ab70bd",
   "metadata": {},
   "outputs": [
    {
     "data": {
      "text/plain": [
       "'Big ticket'"
      ]
     },
     "execution_count": 65,
     "metadata": {},
     "output_type": "execute_result"
    }
   ],
   "source": [
    "CaughtSpeeding(81,False)"
   ]
  }
 ],
 "metadata": {
  "kernelspec": {
   "display_name": "Python 3 (ipykernel)",
   "language": "python",
   "name": "python3"
  },
  "language_info": {
   "codemirror_mode": {
    "name": "ipython",
    "version": 3
   },
   "file_extension": ".py",
   "mimetype": "text/x-python",
   "name": "python",
   "nbconvert_exporter": "python",
   "pygments_lexer": "ipython3",
   "version": "3.9.13"
  }
 },
 "nbformat": 4,
 "nbformat_minor": 5
}
